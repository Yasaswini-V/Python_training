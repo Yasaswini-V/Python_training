{
    "metadata": {
        "kernelspec": {
            "name": "SQL",
            "display_name": "SQL",
            "language": "sql"
        },
        "language_info": {
            "name": "sql",
            "version": ""
        }
    },
    "nbformat_minor": 2,
    "nbformat": 4,
    "cells": [
        {
            "cell_type": "code",
            "source": [
                "CREATE TABLE Books_ass (\r\n",
                "    Title VARCHAR(100) NOT NULL,\r\n",
                "    ISBN VARCHAR(20) NOT NULL PRIMARY KEY ,\r\n",
                "    Format VARCHAR(20),\r\n",
                "    Price DECIMAL(10, 2),\r\n",
                "    Cover VARCHAR(50),\r\n",
                "    Publisher VARCHAR(50),\r\n",
                "    Publisher_Address VARCHAR(100),\r\n",
                "    Website VARCHAR(100),\r\n",
                ");"
            ],
            "metadata": {
                "azdata_cell_guid": "f1ad3eab-403a-4d39-84fd-20a2b871017a",
                "language": "sql"
            },
            "outputs": [
                {
                    "output_type": "display_data",
                    "data": {
                        "text/html": "Commands completed successfully."
                    },
                    "metadata": {}
                },
                {
                    "output_type": "display_data",
                    "data": {
                        "text/html": "Total execution time: 00:00:00.072"
                    },
                    "metadata": {}
                }
            ],
            "execution_count": 83
        },
        {
            "cell_type": "code",
            "source": [
                "CREATE TABLE Reviewers_ass (\r\n",
                "    ReviewerID INT PRIMARY KEY,\r\n",
                "    Name VARCHAR(50),\r\n",
                "    Email VARCHAR(100)\r\n",
                ");"
            ],
            "metadata": {
                "language": "sql",
                "azdata_cell_guid": "11c31fb8-72a8-452b-9c04-ffaf7902b0da"
            },
            "outputs": [
                {
                    "output_type": "display_data",
                    "data": {
                        "text/html": "Commands completed successfully."
                    },
                    "metadata": {}
                },
                {
                    "output_type": "display_data",
                    "data": {
                        "text/html": "Total execution time: 00:00:00.076"
                    },
                    "metadata": {}
                }
            ],
            "execution_count": 5
        },
        {
            "cell_type": "code",
            "source": [
                "CREATE TABLE Reviews_ass (\r\n",
                "    ReviewID INT PRIMARY KEY,\r\n",
                "    ReviewerID INT,\r\n",
                "    ISBN VARCHAR(20),\r\n",
                "    Title VARCHAR(100) NOT NULL,\r\n",
                "    Details TEXT,\r\n",
                "    Rating INT,\r\n",
                "    FOREIGN KEY (ReviewerID) REFERENCES Reviewers_ass(ReviewerID),\r\n",
                "    FOREIGN KEY (ISBN) REFERENCES Books_ass(ISBN)\r\n",
                ");"
            ],
            "metadata": {
                "language": "sql",
                "azdata_cell_guid": "47a4bd41-f672-4cb2-8e01-e51004d19ed0"
            },
            "outputs": [
                {
                    "output_type": "display_data",
                    "data": {
                        "text/html": "Commands completed successfully."
                    },
                    "metadata": {}
                },
                {
                    "output_type": "display_data",
                    "data": {
                        "text/html": "Total execution time: 00:00:00.087"
                    },
                    "metadata": {}
                }
            ],
            "execution_count": 84
        },
        {
            "cell_type": "code",
            "source": [
                "INSERT INTO Books_ass (Title,ISBN, Format, Price, Cover, Publisher, Publisher_Address, Website) VALUES\r\n",
                "    ('Harry potter 1','978-1234567890', 'Paperback', 19.99, 'PaperbackCover.jpg', 'BookCo', '123 Main St', 'www.bookco.com'),\r\n",
                "    ('Harry Potter 2','978-9876543210', 'Ebook', 9.99, 'EbookCover.jpg', 'EbookPub', '456 Elm St', 'www.ebookpub.com'),\r\n",
                "    ('Harry Potter 3','978-5678901234', 'Audiobook', 29.99, 'AudioCover.jpg', 'AudioBooks Inc.', '789 Oak St', 'www.audiobooksinc.com');"
            ],
            "metadata": {
                "language": "sql",
                "azdata_cell_guid": "54c16763-1ffb-41f8-8690-5e02bad58171",
                "tags": []
            },
            "outputs": [
                {
                    "output_type": "display_data",
                    "data": {
                        "text/html": "(3 rows affected)"
                    },
                    "metadata": {}
                },
                {
                    "output_type": "display_data",
                    "data": {
                        "text/html": "Total execution time: 00:00:00.070"
                    },
                    "metadata": {}
                }
            ],
            "execution_count": 90
        },
        {
            "cell_type": "code",
            "source": [
                "INSERT INTO Reviewers_ass (ReviewerID,Name, Email)\r\n",
                "VALUES\r\n",
                "    (1,'John Doe', 'john@example.com'),\r\n",
                "    (2,'Jane Smith', 'jane@example.com'),\r\n",
                "    (3,'Bob Johnson', 'bob@example.com');"
            ],
            "metadata": {
                "language": "sql",
                "azdata_cell_guid": "6eb1798e-f88c-4aa8-84d9-ef19f5edeb97"
            },
            "outputs": [
                {
                    "output_type": "error",
                    "evalue": "Msg 2627, Level 14, State 1, Line 1\r\nViolation of PRIMARY KEY constraint 'PK__Reviewer__1616CFBDEA86879B'. Cannot insert duplicate key in object 'dbo.Reviewers_ass'. The duplicate key value is (1).",
                    "ename": "",
                    "traceback": []
                },
                {
                    "output_type": "display_data",
                    "data": {
                        "text/html": "The statement has been terminated."
                    },
                    "metadata": {}
                },
                {
                    "output_type": "display_data",
                    "data": {
                        "text/html": "Total execution time: 00:00:00.006"
                    },
                    "metadata": {}
                }
            ],
            "execution_count": 86
        },
        {
            "cell_type": "code",
            "source": [
                "INSERT INTO Reviews_ass (ReviewID,ReviewerID, ISBN, Title, Details, Rating)\r\n",
                "VALUES\r\n",
                "    (1,1, '978-1234567890', 'Harry Potter 1', 'I loved this book. Highly recommended.', 5),\r\n",
                "    (2,2, '978-1234567890', 'Harry Potter 2', 'Enjoyable book, but it could have been better.', 4),\r\n",
                "    (3,1, '978-9876543210', 'Harry Potter 3', 'The ebook format is convenient for reading on the go.', 5),\r\n",
                "    (4,3, '978-5678901234', 'Harry Potter 1', 'The audiobook narration was fantastic!', 5);"
            ],
            "metadata": {
                "language": "sql",
                "azdata_cell_guid": "d4f9ac13-cd4c-4aff-97cd-372ddddbab8c"
            },
            "outputs": [
                {
                    "output_type": "display_data",
                    "data": {
                        "text/html": "(4 rows affected)"
                    },
                    "metadata": {}
                },
                {
                    "output_type": "display_data",
                    "data": {
                        "text/html": "Total execution time: 00:00:00.002"
                    },
                    "metadata": {}
                }
            ],
            "execution_count": 91
        },
        {
            "cell_type": "code",
            "source": [
                "SELECT * from Books_ass;"
            ],
            "metadata": {
                "language": "sql",
                "azdata_cell_guid": "c7d5ac26-f384-4a3f-a888-652ecd323f57"
            },
            "outputs": [
                {
                    "output_type": "display_data",
                    "data": {
                        "text/html": "(3 rows affected)"
                    },
                    "metadata": {}
                },
                {
                    "output_type": "display_data",
                    "data": {
                        "text/html": "Total execution time: 00:00:00.004"
                    },
                    "metadata": {}
                },
                {
                    "output_type": "execute_result",
                    "metadata": {},
                    "execution_count": 92,
                    "data": {
                        "application/vnd.dataresource+json": {
                            "schema": {
                                "fields": [
                                    {
                                        "name": "Title"
                                    },
                                    {
                                        "name": "ISBN"
                                    },
                                    {
                                        "name": "Format"
                                    },
                                    {
                                        "name": "Price"
                                    },
                                    {
                                        "name": "Cover"
                                    },
                                    {
                                        "name": "Publisher"
                                    },
                                    {
                                        "name": "Publisher_Address"
                                    },
                                    {
                                        "name": "Website"
                                    }
                                ]
                            },
                            "data": [
                                {
                                    "Title": "Harry potter 1",
                                    "ISBN": "978-1234567890",
                                    "Format": "Paperback",
                                    "Price": "19.99",
                                    "Cover": "PaperbackCover.jpg",
                                    "Publisher": "BookCo",
                                    "Publisher_Address": "123 Main St",
                                    "Website": "www.bookco.com"
                                },
                                {
                                    "Title": "Harry Potter 3",
                                    "ISBN": "978-5678901234",
                                    "Format": "Audiobook",
                                    "Price": "29.99",
                                    "Cover": "AudioCover.jpg",
                                    "Publisher": "AudioBooks Inc.",
                                    "Publisher_Address": "789 Oak St",
                                    "Website": "www.audiobooksinc.com"
                                },
                                {
                                    "Title": "Harry Potter 2",
                                    "ISBN": "978-9876543210",
                                    "Format": "Ebook",
                                    "Price": "9.99",
                                    "Cover": "EbookCover.jpg",
                                    "Publisher": "EbookPub",
                                    "Publisher_Address": "456 Elm St",
                                    "Website": "www.ebookpub.com"
                                }
                            ]
                        },
                        "text/html": [
                            "<table>",
                            "<tr><th>Title</th><th>ISBN</th><th>Format</th><th>Price</th><th>Cover</th><th>Publisher</th><th>Publisher_Address</th><th>Website</th></tr>",
                            "<tr><td>Harry potter 1</td><td>978-1234567890</td><td>Paperback</td><td>19.99</td><td>PaperbackCover.jpg</td><td>BookCo</td><td>123 Main St</td><td>www.bookco.com</td></tr>",
                            "<tr><td>Harry Potter 3</td><td>978-5678901234</td><td>Audiobook</td><td>29.99</td><td>AudioCover.jpg</td><td>AudioBooks Inc.</td><td>789 Oak St</td><td>www.audiobooksinc.com</td></tr>",
                            "<tr><td>Harry Potter 2</td><td>978-9876543210</td><td>Ebook</td><td>9.99</td><td>EbookCover.jpg</td><td>EbookPub</td><td>456 Elm St</td><td>www.ebookpub.com</td></tr>",
                            "</table>"
                        ]
                    }
                }
            ],
            "execution_count": 92
        },
        {
            "cell_type": "code",
            "source": [
                "SELECT * from Reviews_ass;"
            ],
            "metadata": {
                "language": "sql",
                "azdata_cell_guid": "39972893-c51a-412a-bc14-ca1cb1e1273e"
            },
            "outputs": [
                {
                    "output_type": "display_data",
                    "data": {
                        "text/html": "(4 rows affected)"
                    },
                    "metadata": {}
                },
                {
                    "output_type": "display_data",
                    "data": {
                        "text/html": "Total execution time: 00:00:00.003"
                    },
                    "metadata": {}
                },
                {
                    "output_type": "execute_result",
                    "metadata": {},
                    "execution_count": 93,
                    "data": {
                        "application/vnd.dataresource+json": {
                            "schema": {
                                "fields": [
                                    {
                                        "name": "ReviewID"
                                    },
                                    {
                                        "name": "ReviewerID"
                                    },
                                    {
                                        "name": "ISBN"
                                    },
                                    {
                                        "name": "Title"
                                    },
                                    {
                                        "name": "Details"
                                    },
                                    {
                                        "name": "Rating"
                                    }
                                ]
                            },
                            "data": [
                                {
                                    "ReviewID": "1",
                                    "ReviewerID": "1",
                                    "ISBN": "978-1234567890",
                                    "Title": "Harry Potter 1",
                                    "Details": "I loved this book. Highly recommended.",
                                    "Rating": "5"
                                },
                                {
                                    "ReviewID": "2",
                                    "ReviewerID": "2",
                                    "ISBN": "978-1234567890",
                                    "Title": "Harry Potter 2",
                                    "Details": "Enjoyable book, but it could have been better.",
                                    "Rating": "4"
                                },
                                {
                                    "ReviewID": "3",
                                    "ReviewerID": "1",
                                    "ISBN": "978-9876543210",
                                    "Title": "Harry Potter 3",
                                    "Details": "The ebook format is convenient for reading on the go.",
                                    "Rating": "5"
                                },
                                {
                                    "ReviewID": "4",
                                    "ReviewerID": "3",
                                    "ISBN": "978-5678901234",
                                    "Title": "Harry Potter 1",
                                    "Details": "The audiobook narration was fantastic!",
                                    "Rating": "5"
                                }
                            ]
                        },
                        "text/html": [
                            "<table>",
                            "<tr><th>ReviewID</th><th>ReviewerID</th><th>ISBN</th><th>Title</th><th>Details</th><th>Rating</th></tr>",
                            "<tr><td>1</td><td>1</td><td>978-1234567890</td><td>Harry Potter 1</td><td>I loved this book. Highly recommended.</td><td>5</td></tr>",
                            "<tr><td>2</td><td>2</td><td>978-1234567890</td><td>Harry Potter 2</td><td>Enjoyable book, but it could have been better.</td><td>4</td></tr>",
                            "<tr><td>3</td><td>1</td><td>978-9876543210</td><td>Harry Potter 3</td><td>The ebook format is convenient for reading on the go.</td><td>5</td></tr>",
                            "<tr><td>4</td><td>3</td><td>978-5678901234</td><td>Harry Potter 1</td><td>The audiobook narration was fantastic!</td><td>5</td></tr>",
                            "</table>"
                        ]
                    }
                }
            ],
            "execution_count": 93
        },
        {
            "cell_type": "code",
            "source": [
                "SELECT * from Reviewers_ass;"
            ],
            "metadata": {
                "language": "sql",
                "azdata_cell_guid": "6fe9c7d8-0eb9-4427-8a09-d2021f51088a"
            },
            "outputs": [
                {
                    "output_type": "display_data",
                    "data": {
                        "text/html": "(3 rows affected)"
                    },
                    "metadata": {}
                },
                {
                    "output_type": "display_data",
                    "data": {
                        "text/html": "Total execution time: 00:00:00.004"
                    },
                    "metadata": {}
                },
                {
                    "output_type": "execute_result",
                    "metadata": {},
                    "execution_count": 94,
                    "data": {
                        "application/vnd.dataresource+json": {
                            "schema": {
                                "fields": [
                                    {
                                        "name": "ReviewerID"
                                    },
                                    {
                                        "name": "Name"
                                    },
                                    {
                                        "name": "Email"
                                    }
                                ]
                            },
                            "data": [
                                {
                                    "ReviewerID": "1",
                                    "Name": "John Doe",
                                    "Email": "john@example.com"
                                },
                                {
                                    "ReviewerID": "2",
                                    "Name": "Jane Smith",
                                    "Email": "jane@example.com"
                                },
                                {
                                    "ReviewerID": "3",
                                    "Name": "Bob Johnson",
                                    "Email": "bob@example.com"
                                }
                            ]
                        },
                        "text/html": [
                            "<table>",
                            "<tr><th>ReviewerID</th><th>Name</th><th>Email</th></tr>",
                            "<tr><td>1</td><td>John Doe</td><td>john@example.com</td></tr>",
                            "<tr><td>2</td><td>Jane Smith</td><td>jane@example.com</td></tr>",
                            "<tr><td>3</td><td>Bob Johnson</td><td>bob@example.com</td></tr>",
                            "</table>"
                        ]
                    }
                }
            ],
            "execution_count": 94
        },
        {
            "cell_type": "code",
            "source": [
                "DROP TABLE Reviews_ass;"
            ],
            "metadata": {
                "language": "sql",
                "azdata_cell_guid": "dceae3ae-a7ae-4d5c-a0f5-f68426701db5"
            },
            "outputs": [
                {
                    "output_type": "display_data",
                    "data": {
                        "text/html": "Commands completed successfully."
                    },
                    "metadata": {}
                },
                {
                    "output_type": "display_data",
                    "data": {
                        "text/html": "Total execution time: 00:00:00.057"
                    },
                    "metadata": {}
                }
            ],
            "execution_count": 76
        },
        {
            "cell_type": "code",
            "source": [
                "DROP TABLE Books_ass;"
            ],
            "metadata": {
                "language": "sql",
                "azdata_cell_guid": "6147021c-bae3-4e36-9479-21669562d2a3"
            },
            "outputs": [
                {
                    "output_type": "display_data",
                    "data": {
                        "text/html": "Commands completed successfully."
                    },
                    "metadata": {}
                },
                {
                    "output_type": "display_data",
                    "data": {
                        "text/html": "Total execution time: 00:00:00.069"
                    },
                    "metadata": {}
                }
            ],
            "execution_count": 82
        }
    ]
}